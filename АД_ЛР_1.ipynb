{
  "cells": [
    {
      "cell_type": "markdown",
      "metadata": {
        "id": "xsKmAuUzW4NH"
      },
      "source": [
        "# Лабораторная работа №1\n",
        "по дисциплине «Анализ данных».\n",
        "\n",
        "Выполнил студент группы ИВТ-б-о-21-1 Харчеко Богдан Романович.\n",
        "> Задание:\n",
        "*   Найти датасет.\n",
        "*   Произвести выборки, определить t-критерий Стьюдента.\n",
        "*   Сделать выводы.\n",
        "\n",
        "[Ссылка на датасет](https://www.kaggle.com/datasets/codebreaker619/alcohol-comsumption-around-the-world)\n"
      ]
    },
    {
      "cell_type": "code",
      "execution_count": 22,
      "metadata": {
        "id": "Lvmt3wvgX-9z"
      },
      "outputs": [],
      "source": [
        "import numpy as np\n",
        "import scipy.stats as stats\n",
        "import matplotlib.pyplot as plt\n",
        "import csv\n",
        "import pandas as pd\n",
        "\n",
        "%matplotlib inline"
      ]
    },
    {
      "cell_type": "markdown",
      "metadata": {
        "id": "WRwBbe2jZmua"
      },
      "source": [
        "Даны две выборки: количество алкоголя, потребляемого жителями различных стран мира. В данном наборе данных учитываются только пиво и вино."
      ]
    },
    {
      "cell_type": "code",
      "execution_count": 28,
      "metadata": {
        "id": "aBkfmHnTiQ_V"
      },
      "outputs": [],
      "source": [
        "df = pd.read_csv('drinks.csv')\n",
        "\n",
        "# Извлеките значения веса и роста в списки\n",
        "beer = df['beer_servings'].tolist()\n",
        "wine = df['wine_servings'].tolist()"
      ]
    },
    {
      "cell_type": "markdown",
      "metadata": {
        "id": "la7JyI_aZ-ur"
      },
      "source": [
        "Сформулируем нулевую и альтернативную гипотезы:\n",
        "* $H_0: В среднем пиво пьют чаще, чем вино\n",
        "* $H_1: В среднем вино пьют чаще, чем пиво"
      ]
    },
    {
      "cell_type": "markdown",
      "metadata": {
        "id": "iG1QbYyIbXTZ"
      },
      "source": [
        "Построим графики распределения частот для обеих выборок."
      ]
    },
    {
      "cell_type": "code",
      "execution_count": 30,
      "metadata": {
        "colab": {
          "base_uri": "https://localhost:8080/",
          "height": 534
        },
        "id": "0A9ln3RlCrm9",
        "outputId": "715718d3-418a-442e-b10a-26489f2921b2"
      },
      "outputs": [
        {
          "data": {
            "image/png": "[encoded data removed]",
            "text/plain": [
              "<Figure size 640x480 with 2 Axes>"
            ]
          },
          "metadata": {},
          "output_type": "display_data"
        }
      ],
      "source": [
        "# Первый график\n",
        "plt.subplot(1, 2, 1)\n",
        "plt.hist(beer, color='blue', edgecolor='black', bins=int(100/8))\n",
        "plt.xlabel('Beer')\n",
        "plt.ylabel('Frequency')\n",
        "plt.title('Histogram of Beer')\n",
        "\n",
        "# Второй график\n",
        "plt.subplot(1, 2, 2)\n",
        "plt.hist(wine, color='blue', edgecolor='black', bins=int(100/8))\n",
        "plt.xlabel('Wine')\n",
        "plt.ylabel('Frequency')\n",
        "plt.title('Histogram of Wine')\n",
        "\n",
        "# Отображение графиков\n",
        "plt.tight_layout()\n",
        "plt.show()"
      ]
    },
    {
      "cell_type": "markdown",
      "metadata": {
        "id": "rgbxnMXwbdQS"
      },
      "source": [
        "Так как распределение частот близко к нормальному, мы можем использовать t-критерий Стьюдента."
      ]
    },
    {
      "cell_type": "code",
      "execution_count": 32,
      "metadata": {
        "colab": {
          "base_uri": "https://localhost:8080/"
        },
        "id": "07S9NTUG-JXm",
        "outputId": "56bbef26-abe3-42a1-f8b4-feea94fd7401"
      },
      "outputs": [
        {
          "name": "stdout",
          "output_type": "stream",
          "text": [
            "В среднем пьют пиво: 106.16062176165804\n",
            "В среднем пьют вин: 49.45077720207254\n",
            "2.3346193715127866e-09\n",
            "В среднем пиво пьют чаще\n"
          ]
        }
      ],
      "source": [
        "average_beer = np.mean(beer)\n",
        "average_wine = np.mean(wine)\n",
        "\n",
        "# Вывод средних значений\n",
        "print(\"В среднем пьют пиво:\", average_beer)\n",
        "print(\"В среднем пьют вин:\", (average_wine))\n",
        "\n",
        "# Проведение t-теста\n",
        "t_stat, p_value = stats.ttest_ind(beer, wine)\n",
        "\n",
        "# Вывод результатов\n",
        "print(p_value)\n",
        "if p_value < 0.05:\n",
        "    print(\"В среднем пиво пьют чаще\")\n",
        "else:\n",
        "    print(\"В среднем вино пьют чаще\")"
      ]
    },
    {
      "cell_type": "markdown",
      "metadata": {
        "id": "sv7BVcvzb5R_"
      },
      "source": [
        "P > 0.05, поэтому можем принять альтернативную гипотезу $Н_0$ о различиях"
      ]
    },
    {
      "cell_type": "markdown",
      "metadata": {
        "id": "-JK5qv6FffiY"
      },
      "source": [
        "### ANOVA\n",
        "Построим блочную диаграмму:"
      ]
    },
    {
      "cell_type": "code",
      "execution_count": 50,
      "metadata": {
        "colab": {
          "base_uri": "https://localhost:8080/",
          "height": 495
        },
        "id": "5ZnCQWswm8Ee",
        "outputId": "7c34bf21-702d-429f-c8f5-845fb9630f63"
      },
      "outputs": [
        {
          "data": {
            "text/plain": [
              "Text(0, 0.5, 'На человека')"
            ]
          },
          "execution_count": 50,
          "metadata": {},
          "output_type": "execute_result"
        },
        {
          "data": {
            "image/png": "[encoded data removed]",
            "text/plain": [
              "<Figure size 640x480 with 1 Axes>"
            ]
          },
          "metadata": {},
          "output_type": "display_data"
        }
      ],
      "source": [
        "alcohol = [beer, wine]\n",
        "\n",
        "plt.boxplot(alcohol, labels=[\"beer\", \"wine\"])\n",
        "plt.title(\"Блочная диаграмма\", fontsize=15)\n",
        "plt.xlabel(\"Напиток\", fontsize=12, color=\"blue\")\n",
        "plt.ylabel(\"На человека\", fontsize=12, color=\"blue\")\n",
        "\n"
      ]
    },
    {
      "cell_type": "markdown",
      "metadata": {
        "id": "_zCM0q4JpsLT"
      },
      "source": [
        "Выполним однофакторный дисперсионный анализ:"
      ]
    },
    {
      "cell_type": "code",
      "execution_count": 34,
      "metadata": {
        "colab": {
          "base_uri": "https://localhost:8080/"
        },
        "id": "AEtCYmXheVG9",
        "outputId": "3db6a628-aa37-456a-dd39-a32606556ded"
      },
      "outputs": [
        {
          "data": {
            "text/plain": [
              "F_onewayResult(statistic=37.43233230581769, pvalue=2.3346193715129942e-09)"
            ]
          },
          "execution_count": 34,
          "metadata": {},
          "output_type": "execute_result"
        }
      ],
      "source": [
        "from scipy.stats import f_oneway\n",
        "\n",
        "f_oneway(beer, wine)"
      ]
    },
    {
      "cell_type": "markdown",
      "metadata": {
        "id": "YFD7QmCJfvwa"
      },
      "source": [
        "P > 0.05, поэтому прринимаем нулевую гипотезу."
      ]
    }
  ],
  "metadata": {
    "colab": {
      "provenance": []
    },
    "kernelspec": {
      "display_name": "Python 3",
      "name": "python3"
    },
    "language_info": {
      "codemirror_mode": {
        "name": "ipython",
        "version": 3
      },
      "file_extension": ".py",
      "mimetype": "text/x-python",
      "name": "python",
      "nbconvert_exporter": "python",
      "pygments_lexer": "ipython3",
      "version": "3.11.6"
    }
  },
  "nbformat": 4,
  "nbformat_minor": 0
}
